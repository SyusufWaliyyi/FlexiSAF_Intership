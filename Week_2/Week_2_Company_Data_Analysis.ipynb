{
 "cells": [
  {
   "cell_type": "markdown",
   "id": "061fa020",
   "metadata": {},
   "source": [
    "_Shamsuddeen Yusuf_\n",
    "\n",
    "_Week 2_"
   ]
  },
  {
   "cell_type": "code",
   "execution_count": 2,
   "id": "f2e7b650",
   "metadata": {},
   "outputs": [],
   "source": [
    "import matplotlib.pyplot as plt\n",
    "import pandas as pd"
   ]
  },
  {
   "cell_type": "code",
   "execution_count": 3,
   "id": "e1284fd7",
   "metadata": {},
   "outputs": [],
   "source": [
    "# Load the sales data\n",
    "sales_df = pd.read_csv('company_sales_data.csv')"
   ]
  },
  {
   "cell_type": "code",
   "execution_count": 4,
   "id": "1bccd9f5",
   "metadata": {},
   "outputs": [
    {
     "name": "stdout",
     "output_type": "stream",
     "text": [
      "The firts 5 rows :\n",
      "   month_number  facecream  facewash  toothpaste  bathingsoap  shampoo  \\\n",
      "0             1       2500      1500        5200         9200     1200   \n",
      "1             2       2630      1200        5100         6100     2100   \n",
      "2             3       2140      1340        4550         9550     3550   \n",
      "3             4       3400      1130        5870         8870     1870   \n",
      "4             5       3600      1740        4560         7760     1560   \n",
      "\n",
      "   moisturizer  total_units  total_profit  \n",
      "0         1500        21100        211000  \n",
      "1         1200        18330        183300  \n",
      "2         1340        22470        224700  \n",
      "3         1130        22270        222700  \n",
      "4         1740        20960        209600  \n"
     ]
    }
   ],
   "source": [
    "# Display the first few rows of the DataFram\n",
    "print(f\"The firts 5 rows :\\n{sales_df.head()}\")"
   ]
  },
  {
   "cell_type": "code",
   "execution_count": 5,
   "id": "d65fc968",
   "metadata": {},
   "outputs": [
    {
     "name": "stdout",
     "output_type": "stream",
     "text": [
      "The last 5 rows: \n",
      "    month_number  facecream  facewash  toothpaste  bathingsoap  shampoo  \\\n",
      "7              8       3700      1400        5860         9960     2860   \n",
      "8              9       3540      1780        6100         8100     2100   \n",
      "9             10       1990      1890        8300        10300     2300   \n",
      "10            11       2340      2100        7300        13300     2400   \n",
      "11            12       2900      1760        7400        14400     1800   \n",
      "\n",
      "    moisturizer  total_units  total_profit  \n",
      "7          1400        36140        361400  \n",
      "8          1780        23400        234000  \n",
      "9          1890        26670        266700  \n",
      "10         2100        41280        412800  \n",
      "11         1760        30020        300200  \n"
     ]
    }
   ],
   "source": [
    "print(f\"The last 5 rows: \\n{sales_df.tail()}\")"
   ]
  },
  {
   "cell_type": "code",
   "execution_count": 6,
   "id": "82f4c50c",
   "metadata": {},
   "outputs": [
    {
     "data": {
      "application/vnd.microsoft.datawrangler.viewer.v0+json": {
       "columns": [
        {
         "name": "index",
         "rawType": "object",
         "type": "string"
        },
        {
         "name": "month_number",
         "rawType": "float64",
         "type": "float"
        },
        {
         "name": "facecream",
         "rawType": "float64",
         "type": "float"
        },
        {
         "name": "facewash",
         "rawType": "float64",
         "type": "float"
        },
        {
         "name": "toothpaste",
         "rawType": "float64",
         "type": "float"
        },
        {
         "name": "bathingsoap",
         "rawType": "float64",
         "type": "float"
        },
        {
         "name": "shampoo",
         "rawType": "float64",
         "type": "float"
        },
        {
         "name": "moisturizer",
         "rawType": "float64",
         "type": "float"
        },
        {
         "name": "total_units",
         "rawType": "float64",
         "type": "float"
        },
        {
         "name": "total_profit",
         "rawType": "float64",
         "type": "float"
        }
       ],
       "ref": "bc9a3081-c2a8-4674-aa15-c11e73de7eda",
       "rows": [
        [
         "count",
         "12.0",
         "12.0",
         "12.0",
         "12.0",
         "12.0",
         "12.0",
         "12.0",
         "12.0",
         "12.0"
        ],
        [
         "mean",
         "6.5",
         "2873.33",
         "1542.92",
         "5825.83",
         "9500.83",
         "2117.5",
         "1542.92",
         "26027.5",
         "260275.0"
        ],
        [
         "std",
         "3.61",
         "584.6",
         "316.73",
         "1242.03",
         "2348.1",
         "617.72",
         "316.73",
         "7014.37",
         "70143.66"
        ],
        [
         "min",
         "1.0",
         "1990.0",
         "1120.0",
         "4550.0",
         "6100.0",
         "1200.0",
         "1120.0",
         "18330.0",
         "183300.0"
        ],
        [
         "25%",
         "3.75",
         "2460.0",
         "1305.0",
         "4862.5",
         "8015.0",
         "1795.0",
         "1305.0",
         "21065.0",
         "210650.0"
        ],
        [
         "50%",
         "6.5",
         "2830.0",
         "1527.5",
         "5530.0",
         "9090.0",
         "1995.0",
         "1527.5",
         "22935.0",
         "229350.0"
        ],
        [
         "75%",
         "9.25",
         "3435.0",
         "1765.0",
         "6400.0",
         "10045.0",
         "2325.0",
         "1765.0",
         "29667.5",
         "296675.0"
        ],
        [
         "max",
         "12.0",
         "3700.0",
         "2100.0",
         "8300.0",
         "14400.0",
         "3550.0",
         "2100.0",
         "41280.0",
         "412800.0"
        ]
       ],
       "shape": {
        "columns": 9,
        "rows": 8
       }
      },
      "text/html": [
       "<div>\n",
       "<style scoped>\n",
       "    .dataframe tbody tr th:only-of-type {\n",
       "        vertical-align: middle;\n",
       "    }\n",
       "\n",
       "    .dataframe tbody tr th {\n",
       "        vertical-align: top;\n",
       "    }\n",
       "\n",
       "    .dataframe thead th {\n",
       "        text-align: right;\n",
       "    }\n",
       "</style>\n",
       "<table border=\"1\" class=\"dataframe\">\n",
       "  <thead>\n",
       "    <tr style=\"text-align: right;\">\n",
       "      <th></th>\n",
       "      <th>month_number</th>\n",
       "      <th>facecream</th>\n",
       "      <th>facewash</th>\n",
       "      <th>toothpaste</th>\n",
       "      <th>bathingsoap</th>\n",
       "      <th>shampoo</th>\n",
       "      <th>moisturizer</th>\n",
       "      <th>total_units</th>\n",
       "      <th>total_profit</th>\n",
       "    </tr>\n",
       "  </thead>\n",
       "  <tbody>\n",
       "    <tr>\n",
       "      <th>count</th>\n",
       "      <td>12.00</td>\n",
       "      <td>12.00</td>\n",
       "      <td>12.00</td>\n",
       "      <td>12.00</td>\n",
       "      <td>12.00</td>\n",
       "      <td>12.00</td>\n",
       "      <td>12.00</td>\n",
       "      <td>12.00</td>\n",
       "      <td>12.00</td>\n",
       "    </tr>\n",
       "    <tr>\n",
       "      <th>mean</th>\n",
       "      <td>6.50</td>\n",
       "      <td>2873.33</td>\n",
       "      <td>1542.92</td>\n",
       "      <td>5825.83</td>\n",
       "      <td>9500.83</td>\n",
       "      <td>2117.50</td>\n",
       "      <td>1542.92</td>\n",
       "      <td>26027.50</td>\n",
       "      <td>260275.00</td>\n",
       "    </tr>\n",
       "    <tr>\n",
       "      <th>std</th>\n",
       "      <td>3.61</td>\n",
       "      <td>584.60</td>\n",
       "      <td>316.73</td>\n",
       "      <td>1242.03</td>\n",
       "      <td>2348.10</td>\n",
       "      <td>617.72</td>\n",
       "      <td>316.73</td>\n",
       "      <td>7014.37</td>\n",
       "      <td>70143.66</td>\n",
       "    </tr>\n",
       "    <tr>\n",
       "      <th>min</th>\n",
       "      <td>1.00</td>\n",
       "      <td>1990.00</td>\n",
       "      <td>1120.00</td>\n",
       "      <td>4550.00</td>\n",
       "      <td>6100.00</td>\n",
       "      <td>1200.00</td>\n",
       "      <td>1120.00</td>\n",
       "      <td>18330.00</td>\n",
       "      <td>183300.00</td>\n",
       "    </tr>\n",
       "    <tr>\n",
       "      <th>25%</th>\n",
       "      <td>3.75</td>\n",
       "      <td>2460.00</td>\n",
       "      <td>1305.00</td>\n",
       "      <td>4862.50</td>\n",
       "      <td>8015.00</td>\n",
       "      <td>1795.00</td>\n",
       "      <td>1305.00</td>\n",
       "      <td>21065.00</td>\n",
       "      <td>210650.00</td>\n",
       "    </tr>\n",
       "    <tr>\n",
       "      <th>50%</th>\n",
       "      <td>6.50</td>\n",
       "      <td>2830.00</td>\n",
       "      <td>1527.50</td>\n",
       "      <td>5530.00</td>\n",
       "      <td>9090.00</td>\n",
       "      <td>1995.00</td>\n",
       "      <td>1527.50</td>\n",
       "      <td>22935.00</td>\n",
       "      <td>229350.00</td>\n",
       "    </tr>\n",
       "    <tr>\n",
       "      <th>75%</th>\n",
       "      <td>9.25</td>\n",
       "      <td>3435.00</td>\n",
       "      <td>1765.00</td>\n",
       "      <td>6400.00</td>\n",
       "      <td>10045.00</td>\n",
       "      <td>2325.00</td>\n",
       "      <td>1765.00</td>\n",
       "      <td>29667.50</td>\n",
       "      <td>296675.00</td>\n",
       "    </tr>\n",
       "    <tr>\n",
       "      <th>max</th>\n",
       "      <td>12.00</td>\n",
       "      <td>3700.00</td>\n",
       "      <td>2100.00</td>\n",
       "      <td>8300.00</td>\n",
       "      <td>14400.00</td>\n",
       "      <td>3550.00</td>\n",
       "      <td>2100.00</td>\n",
       "      <td>41280.00</td>\n",
       "      <td>412800.00</td>\n",
       "    </tr>\n",
       "  </tbody>\n",
       "</table>\n",
       "</div>"
      ],
      "text/plain": [
       "       month_number  facecream  facewash  toothpaste  bathingsoap  shampoo  \\\n",
       "count         12.00      12.00     12.00       12.00        12.00    12.00   \n",
       "mean           6.50    2873.33   1542.92     5825.83      9500.83  2117.50   \n",
       "std            3.61     584.60    316.73     1242.03      2348.10   617.72   \n",
       "min            1.00    1990.00   1120.00     4550.00      6100.00  1200.00   \n",
       "25%            3.75    2460.00   1305.00     4862.50      8015.00  1795.00   \n",
       "50%            6.50    2830.00   1527.50     5530.00      9090.00  1995.00   \n",
       "75%            9.25    3435.00   1765.00     6400.00     10045.00  2325.00   \n",
       "max           12.00    3700.00   2100.00     8300.00     14400.00  3550.00   \n",
       "\n",
       "       moisturizer  total_units  total_profit  \n",
       "count        12.00        12.00         12.00  \n",
       "mean       1542.92     26027.50     260275.00  \n",
       "std         316.73      7014.37      70143.66  \n",
       "min        1120.00     18330.00     183300.00  \n",
       "25%        1305.00     21065.00     210650.00  \n",
       "50%        1527.50     22935.00     229350.00  \n",
       "75%        1765.00     29667.50     296675.00  \n",
       "max        2100.00     41280.00     412800.00  "
      ]
     },
     "execution_count": 6,
     "metadata": {},
     "output_type": "execute_result"
    }
   ],
   "source": [
    "# Describe the DataFrame to get a summary of the data\n",
    "# This will include count, mean, std, min, 25%, 50%, 75%, max for each column\n",
    "round(sales_df.describe(), 2)"
   ]
  },
  {
   "cell_type": "code",
   "execution_count": 7,
   "id": "63ad1421",
   "metadata": {},
   "outputs": [
    {
     "name": "stdout",
     "output_type": "stream",
     "text": [
      "<class 'pandas.core.frame.DataFrame'>\n",
      "RangeIndex: 12 entries, 0 to 11\n",
      "Data columns (total 9 columns):\n",
      " #   Column        Non-Null Count  Dtype\n",
      "---  ------        --------------  -----\n",
      " 0   month_number  12 non-null     int64\n",
      " 1   facecream     12 non-null     int64\n",
      " 2   facewash      12 non-null     int64\n",
      " 3   toothpaste    12 non-null     int64\n",
      " 4   bathingsoap   12 non-null     int64\n",
      " 5   shampoo       12 non-null     int64\n",
      " 6   moisturizer   12 non-null     int64\n",
      " 7   total_units   12 non-null     int64\n",
      " 8   total_profit  12 non-null     int64\n",
      "dtypes: int64(9)\n",
      "memory usage: 996.0 bytes\n",
      "None\n"
     ]
    }
   ],
   "source": [
    "# show the data types of each column\n",
    "# This will help us understand the structure of the DataFrame\n",
    "print(sales_df.info())"
   ]
  },
  {
   "cell_type": "code",
   "execution_count": 8,
   "id": "608ef472",
   "metadata": {},
   "outputs": [
    {
     "name": "stdout",
     "output_type": "stream",
     "text": [
      "shape pf the data = (12, 9)\n"
     ]
    }
   ],
   "source": [
    "# Show the shape of the DataFrame\n",
    "# This will give us the number of rows and columns in the DataFrame\n",
    "print(f\"shape pf the data = {sales_df.shape}\")"
   ]
  },
  {
   "cell_type": "code",
   "execution_count": 9,
   "id": "e789b222",
   "metadata": {},
   "outputs": [],
   "source": [
    "# Extract relevant columns for plotting\n",
    "# Extracting the total profit sales data\n",
    "total_monthly_profit = sales_df['total_profit']\n",
    "\n",
    "# Extracting the sales data for bathing soap and face wash\n",
    "bathing_soup = sales_df['bathingsoap']\n",
    "face_wash = sales_df['facewash']\n",
    "\n",
    "# Extracting the month number\n",
    "month = sales_df['month_number']\n"
   ]
  },
  {
   "cell_type": "code",
   "execution_count": 10,
   "id": "46026f70",
   "metadata": {},
   "outputs": [
    {
     "data": {
      "image/png": "[encoded data removed]",
      "text/plain": [
       "<Figure size 640x480 with 1 Axes>"
      ]
     },
     "metadata": {},
     "output_type": "display_data"
    }
   ],
   "source": [
    "# Exercise 1: Read Total profit of all months and show it using a line plot\n",
    "fig, ax=plt.subplots()\n",
    "ax.plot(month, total_monthly_profit, marker='o', color='r', label='Total Profit')\n",
    "plt.title('Total Profit for all Months')\n",
    "plt.xlabel('Month')\n",
    "plt.ylabel('Total Profit')\n",
    "plt.legend()\n",
    "plt.grid()\n",
    "plt.show()\n"
   ]
  },
  {
   "cell_type": "markdown",
   "id": "74fe03de",
   "metadata": {},
   "source": [
    "Plotting the bathing soap and face wash data per month"
   ]
  },
  {
   "cell_type": "code",
   "execution_count": 14,
   "id": "eafe1b46",
   "metadata": {},
   "outputs": [
    {
     "data": {
      "image/png": "[encoded data removed]",
      "text/plain": [
       "<Figure size 640x480 with 1 Axes>"
      ]
     },
     "metadata": {},
     "output_type": "display_data"
    }
   ],
   "source": [
    "# Subplot for Bathing soap\n",
    "fig, ax=plt.subplots()\n",
    "ax.plot(month, bathing_soup, marker='x', color='g')\n",
    "ax.plot(month, face_wash, marker='s', color='b')\n",
    "plt.title('Bathing Soap and Facewash')\n",
    "plt.xlabel('Month')\n",
    "plt.ylabel('Sales')\n",
    "plt.legend(['bathing soap', 'face wash'])\n",
    "plt.grid()\n",
    "plt.tight_layout()\n",
    "plt.show()"
   ]
  }
 ],
 "metadata": {
  "kernelspec": {
   "display_name": "Python 3",
   "language": "python",
   "name": "python3"
  },
  "language_info": {
   "codemirror_mode": {
    "name": "ipython",
    "version": 3
   },
   "file_extension": ".py",
   "mimetype": "text/x-python",
   "name": "python",
   "nbconvert_exporter": "python",
   "pygments_lexer": "ipython3",
   "version": "3.13.2"
  }
 },
 "nbformat": 4,
 "nbformat_minor": 5
}
