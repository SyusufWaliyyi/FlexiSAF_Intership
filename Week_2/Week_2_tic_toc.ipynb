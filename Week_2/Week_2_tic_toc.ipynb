{
 "cells": [
  {
   "cell_type": "code",
   "execution_count": null,
   "id": "334619f0",
   "metadata": {},
   "outputs": [
    {
     "name": "stdout",
     "output_type": "stream",
     "text": [
      "Welcome to Tic-Tac-Toe!\n",
      "\n",
      "\n",
      "  |   |  \n",
      "  |   |  \n",
      "  |   |  \n",
      "\n",
      "\n"
     ]
    }
   ],
   "source": [
    "import random\n",
    "\n",
    "# Define the game board\n",
    "board = [\" \" for _ in range(9)]\n",
    "\n",
    "def print_board():\n",
    "    print(\"\\n\")\n",
    "    for i in range(0, 9, 3):\n",
    "        print(board[i], \"|\", board[i+1], \"|\", board[i+2])\n",
    "    print(\"\\n\")\n",
    "\n",
    "def check_winner(player):\n",
    "    win_patterns = [(0,1,2), (3,4,5), (6,7,8), \n",
    "                    (0,3,6), (1,4,7), (2,5,8),\n",
    "                    (0,4,8), (2,4,6)]\n",
    "    \n",
    "    for pattern in win_patterns:\n",
    "        if all(board[i] == player for i in pattern):\n",
    "            return True\n",
    "    return False\n",
    "\n",
    "def check_tie():\n",
    "    return \" \" not in board\n",
    "\n",
    "def get_user_move():\n",
    "    while True:\n",
    "        try:\n",
    "            move = int(input(\"Enter your move (1-9): \")) - 1\n",
    "            if 0 <= move < 9 and board[move] == \" \":\n",
    "                return move\n",
    "            else:\n",
    "                print(\"Invalid move. Try again.\")\n",
    "        except ValueError:\n",
    "            print(\"Please enter a number between 1 and 9.\")\n",
    "\n",
    "def get_ai_move():\n",
    "    available_moves = [i for i, x in enumerate(board) if x == \" \"]\n",
    "    return random.choice(available_moves)\n",
    "\n",
    "def play_game():\n",
    "    print(\"Welcome to Tic-Tac-Toe!\")\n",
    "    print_board()\n",
    "\n",
    "    while True:\n",
    "        user_move = get_user_move()\n",
    "        board[user_move] = \"X\"\n",
    "        print_board()\n",
    "        \n",
    "        if check_winner(\"X\"):\n",
    "            print(\"You win!\")\n",
    "            break\n",
    "        elif check_tie():\n",
    "            print(\"It's a tie!\")\n",
    "            break\n",
    "\n",
    "        print(\"AI is making a move...\")\n",
    "        ai_move = get_ai_move()\n",
    "        board[ai_move] = \"O\"\n",
    "        print_board()\n",
    "\n",
    "        if check_winner(\"O\"):\n",
    "            print(\"AI wins!\")\n",
    "            break\n",
    "        elif check_tie():\n",
    "            print(\"It's a tie!\")\n",
    "            break\n",
    "\n",
    "# Call the main game loop\n",
    "play_game()\n"
   ]
  }
 ],
 "metadata": {
  "kernelspec": {
   "display_name": "Python 3",
   "language": "python",
   "name": "python3"
  },
  "language_info": {
   "codemirror_mode": {
    "name": "ipython",
    "version": 3
   },
   "file_extension": ".py",
   "mimetype": "text/x-python",
   "name": "python",
   "nbconvert_exporter": "python",
   "pygments_lexer": "ipython3",
   "version": "3.13.2"
  }
 },
 "nbformat": 4,
 "nbformat_minor": 5
}
