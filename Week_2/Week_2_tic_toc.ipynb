{
 "cells": [
  {
   "cell_type": "markdown",
   "id": "861c6ab0",
   "metadata": {},
   "source": [
    "_Shamsuddeen Yusuf_\n",
    "\n",
    "_Week 2_"
   ]
  },
  {
   "cell_type": "markdown",
   "id": "aaa16940",
   "metadata": {},
   "source": [
    "Impor the random library"
   ]
  },
  {
   "cell_type": "code",
   "execution_count": 1,
   "id": "dc097788",
   "metadata": {},
   "outputs": [],
   "source": [
    "import random"
   ]
  },
  {
   "cell_type": "markdown",
   "id": "0567e15a",
   "metadata": {},
   "source": [
    " Define the game board"
   ]
  },
  {
   "cell_type": "code",
   "execution_count": 2,
   "id": "4b7dfe1e",
   "metadata": {},
   "outputs": [],
   "source": [
    "def create_board():\n",
    "    return [' ' for _ in range(9)]\n",
    "\n",
    "def print_board(board):\n",
    "    for i in range(3):\n",
    "        print(board[3*i] + '|' + board[3*i+1] + '|' + board[3*i+2])\n",
    "        if i < 2:\n",
    "            print('-+-+-')"
   ]
  },
  {
   "cell_type": "markdown",
   "id": "c35b6928",
   "metadata": {},
   "source": [
    "Define a function to check if the player win"
   ]
  },
  {
   "cell_type": "code",
   "execution_count": 3,
   "id": "dafffada",
   "metadata": {},
   "outputs": [],
   "source": [
    "def check_win(board, player):\n",
    "    win_conditions = [\n",
    "        [0,1,2], [3,4,5], [6,7,8], # rows\n",
    "        [0,3,6], [1,4,7], [2,5,8], # columns\n",
    "        [0,4,8], [2,4,6]           # diagonals\n",
    "    ]\n",
    "    return any(all(board[i] == player for i in cond) for cond in win_conditions)"
   ]
  },
  {
   "cell_type": "markdown",
   "id": "d65f8ee6",
   "metadata": {},
   "source": [
    "Check if the game is a tie"
   ]
  },
  {
   "cell_type": "code",
   "execution_count": 4,
   "id": "a636487a",
   "metadata": {},
   "outputs": [],
   "source": [
    "def check_tie(board):\n",
    "    return all(cell != ' ' for cell in board)\n",
    "\n",
    "# Simple AI agent (random move)\n",
    "def ai_move(board):\n",
    "    available = [i for i, cell in enumerate(board) if cell == ' ']\n",
    "    return random.choice(available)"
   ]
  },
  {
   "cell_type": "markdown",
   "id": "e082584c",
   "metadata": {},
   "source": [
    "Define the main game"
   ]
  },
  {
   "cell_type": "code",
   "execution_count": null,
   "id": "041064ce",
   "metadata": {},
   "outputs": [],
   "source": [
    "def play_game():\n",
    "    board = create_board()\n",
    "    current_player = 'S'\n",
    "    print(\"Welcome to Tic Tac Toe!\")\n",
    "    while True:\n",
    "        print_board(board)\n",
    "        if current_player == 'S':\n",
    "            print(\"Your turn!\")\n",
    "            print(\"Available moves: \", [i for i, cell in enumerate(board) if cell == ' '])\n",
    "            move = int(input(\"Enter your move (0-8): \"))\n",
    "            if board[move] != ' ':\n",
    "                print(\"Invalid move. Try again.\")\n",
    "                continue\n",
    "        else:\n",
    "            move = ai_move(board)\n",
    "            print(f\"AI chooses position {move}\")\n",
    "        board[move] = current_player\n",
    "        if check_win(board, current_player):\n",
    "            print_board(board)\n",
    "            print(f\"Player {current_player} wins!\")\n",
    "            break\n",
    "        if check_tie(board):\n",
    "            print_board(board)\n",
    "            print(\"It's a tie!\")\n",
    "            break\n",
    "        current_player = 'C' if current_player == 'S' else 'S'"
   ]
  },
  {
   "cell_type": "markdown",
   "id": "7e4d1a9c",
   "metadata": {},
   "source": [
    "call the main function to play the game"
   ]
  },
  {
   "cell_type": "code",
   "execution_count": 6,
   "id": "04e17215",
   "metadata": {},
   "outputs": [
    {
     "name": "stdout",
     "output_type": "stream",
     "text": [
      "Welcome to Tic Tac Toe!\n",
      " | | \n",
      "-+-+-\n",
      " | | \n",
      "-+-+-\n",
      " | | \n",
      "Your turn!\n",
      "Available moves:  [0, 1, 2, 3, 4, 5, 6, 7, 8]\n",
      " |Shamsuddeen| \n",
      "-+-+-\n",
      " | | \n",
      "-+-+-\n",
      " | | \n",
      "AI chooses position 3\n",
      " |Shamsuddeen| \n",
      "-+-+-\n",
      "Computer| | \n",
      "-+-+-\n",
      " | | \n",
      "Your turn!\n",
      "Available moves:  [0, 2, 4, 5, 6, 7, 8]\n",
      " |Shamsuddeen|Shamsuddeen\n",
      "-+-+-\n",
      "Computer| | \n",
      "-+-+-\n",
      " | | \n",
      "AI chooses position 0\n",
      "Computer|Shamsuddeen|Shamsuddeen\n",
      "-+-+-\n",
      "Computer| | \n",
      "-+-+-\n",
      " | | \n",
      "Your turn!\n",
      "Available moves:  [4, 5, 6, 7, 8]\n",
      "Invalid move. Try again.\n",
      "Computer|Shamsuddeen|Shamsuddeen\n",
      "-+-+-\n",
      "Computer| | \n",
      "-+-+-\n",
      " | | \n",
      "Your turn!\n",
      "Available moves:  [4, 5, 6, 7, 8]\n",
      "Computer|Shamsuddeen|Shamsuddeen\n",
      "-+-+-\n",
      "Computer|Shamsuddeen| \n",
      "-+-+-\n",
      " | | \n",
      "AI chooses position 7\n",
      "Computer|Shamsuddeen|Shamsuddeen\n",
      "-+-+-\n",
      "Computer|Shamsuddeen| \n",
      "-+-+-\n",
      " |Computer| \n",
      "Your turn!\n",
      "Available moves:  [5, 6, 8]\n",
      "Computer|Shamsuddeen|Shamsuddeen\n",
      "-+-+-\n",
      "Computer|Shamsuddeen|Shamsuddeen\n",
      "-+-+-\n",
      " |Computer| \n",
      "AI chooses position 8\n",
      "Computer|Shamsuddeen|Shamsuddeen\n",
      "-+-+-\n",
      "Computer|Shamsuddeen|Shamsuddeen\n",
      "-+-+-\n",
      " |Computer|Computer\n",
      "Your turn!\n",
      "Available moves:  [6]\n",
      "Computer|Shamsuddeen|Shamsuddeen\n",
      "-+-+-\n",
      "Computer|Shamsuddeen|Shamsuddeen\n",
      "-+-+-\n",
      "Shamsuddeen|Computer|Computer\n",
      "Player Shamsuddeen wins!\n"
     ]
    }
   ],
   "source": [
    "play_game()"
   ]
  }
 ],
 "metadata": {
  "kernelspec": {
   "display_name": "Python 3",
   "language": "python",
   "name": "python3"
  },
  "language_info": {
   "codemirror_mode": {
    "name": "ipython",
    "version": 3
   },
   "file_extension": ".py",
   "mimetype": "text/x-python",
   "name": "python",
   "nbconvert_exporter": "python",
   "pygments_lexer": "ipython3",
   "version": "3.13.2"
  }
 },
 "nbformat": 4,
 "nbformat_minor": 5
}
