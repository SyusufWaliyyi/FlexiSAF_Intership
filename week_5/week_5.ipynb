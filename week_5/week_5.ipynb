{
 "cells": [
  {
   "cell_type": "code",
   "execution_count": 2,
   "id": "b70d566b",
   "metadata": {},
   "outputs": [],
   "source": [
    "import pandas as pd\n",
    "import numpy as np\n",
    "import matplotlib.pyplot as plt\n",
    "import seaborn as sns"
   ]
  },
  {
   "cell_type": "code",
   "execution_count": 3,
   "id": "ac5cda02",
   "metadata": {},
   "outputs": [
    {
     "data": {
      "application/vnd.microsoft.datawrangler.viewer.v0+json": {
       "columns": [
        {
         "name": "index",
         "rawType": "int64",
         "type": "integer"
        },
        {
         "name": "Student_ID",
         "rawType": "int64",
         "type": "integer"
        },
        {
         "name": "Age",
         "rawType": "int64",
         "type": "integer"
        },
        {
         "name": "Gender",
         "rawType": "object",
         "type": "string"
        },
        {
         "name": "Academic_Level",
         "rawType": "object",
         "type": "string"
        },
        {
         "name": "Country",
         "rawType": "object",
         "type": "string"
        },
        {
         "name": "Avg_Daily_Usage_Hours",
         "rawType": "float64",
         "type": "float"
        },
        {
         "name": "Most_Used_Platform",
         "rawType": "object",
         "type": "string"
        },
        {
         "name": "Affects_Academic_Performance",
         "rawType": "object",
         "type": "string"
        },
        {
         "name": "Sleep_Hours_Per_Night",
         "rawType": "float64",
         "type": "float"
        },
        {
         "name": "Mental_Health_Score",
         "rawType": "int64",
         "type": "integer"
        },
        {
         "name": "Relationship_Status",
         "rawType": "object",
         "type": "string"
        },
        {
         "name": "Conflicts_Over_Social_Media",
         "rawType": "int64",
         "type": "integer"
        },
        {
         "name": "Addicted_Score",
         "rawType": "int64",
         "type": "integer"
        }
       ],
       "ref": "99379c4a-07c0-45b2-af4d-b1cec26d7635",
       "rows": [
        [
         "0",
         "1",
         "19",
         "Female",
         "Undergraduate",
         "Bangladesh",
         "5.2",
         "Instagram",
         "Yes",
         "6.5",
         "6",
         "In Relationship",
         "3",
         "8"
        ],
        [
         "1",
         "2",
         "22",
         "Male",
         "Graduate",
         "India",
         "2.1",
         "Twitter",
         "No",
         "7.5",
         "8",
         "Single",
         "0",
         "3"
        ],
        [
         "2",
         "3",
         "20",
         "Female",
         "Undergraduate",
         "USA",
         "6.0",
         "TikTok",
         "Yes",
         "5.0",
         "5",
         "Complicated",
         "4",
         "9"
        ],
        [
         "3",
         "4",
         "18",
         "Male",
         "High School",
         "UK",
         "3.0",
         "YouTube",
         "No",
         "7.0",
         "7",
         "Single",
         "1",
         "4"
        ],
        [
         "4",
         "5",
         "21",
         "Male",
         "Graduate",
         "Canada",
         "4.5",
         "Facebook",
         "Yes",
         "6.0",
         "6",
         "In Relationship",
         "2",
         "7"
        ]
       ],
       "shape": {
        "columns": 13,
        "rows": 5
       }
      },
      "text/html": [
       "<div>\n",
       "<style scoped>\n",
       "    .dataframe tbody tr th:only-of-type {\n",
       "        vertical-align: middle;\n",
       "    }\n",
       "\n",
       "    .dataframe tbody tr th {\n",
       "        vertical-align: top;\n",
       "    }\n",
       "\n",
       "    .dataframe thead th {\n",
       "        text-align: right;\n",
       "    }\n",
       "</style>\n",
       "<table border=\"1\" class=\"dataframe\">\n",
       "  <thead>\n",
       "    <tr style=\"text-align: right;\">\n",
       "      <th></th>\n",
       "      <th>Student_ID</th>\n",
       "      <th>Age</th>\n",
       "      <th>Gender</th>\n",
       "      <th>Academic_Level</th>\n",
       "      <th>Country</th>\n",
       "      <th>Avg_Daily_Usage_Hours</th>\n",
       "      <th>Most_Used_Platform</th>\n",
       "      <th>Affects_Academic_Performance</th>\n",
       "      <th>Sleep_Hours_Per_Night</th>\n",
       "      <th>Mental_Health_Score</th>\n",
       "      <th>Relationship_Status</th>\n",
       "      <th>Conflicts_Over_Social_Media</th>\n",
       "      <th>Addicted_Score</th>\n",
       "    </tr>\n",
       "  </thead>\n",
       "  <tbody>\n",
       "    <tr>\n",
       "      <th>0</th>\n",
       "      <td>1</td>\n",
       "      <td>19</td>\n",
       "      <td>Female</td>\n",
       "      <td>Undergraduate</td>\n",
       "      <td>Bangladesh</td>\n",
       "      <td>5.2</td>\n",
       "      <td>Instagram</td>\n",
       "      <td>Yes</td>\n",
       "      <td>6.5</td>\n",
       "      <td>6</td>\n",
       "      <td>In Relationship</td>\n",
       "      <td>3</td>\n",
       "      <td>8</td>\n",
       "    </tr>\n",
       "    <tr>\n",
       "      <th>1</th>\n",
       "      <td>2</td>\n",
       "      <td>22</td>\n",
       "      <td>Male</td>\n",
       "      <td>Graduate</td>\n",
       "      <td>India</td>\n",
       "      <td>2.1</td>\n",
       "      <td>Twitter</td>\n",
       "      <td>No</td>\n",
       "      <td>7.5</td>\n",
       "      <td>8</td>\n",
       "      <td>Single</td>\n",
       "      <td>0</td>\n",
       "      <td>3</td>\n",
       "    </tr>\n",
       "    <tr>\n",
       "      <th>2</th>\n",
       "      <td>3</td>\n",
       "      <td>20</td>\n",
       "      <td>Female</td>\n",
       "      <td>Undergraduate</td>\n",
       "      <td>USA</td>\n",
       "      <td>6.0</td>\n",
       "      <td>TikTok</td>\n",
       "      <td>Yes</td>\n",
       "      <td>5.0</td>\n",
       "      <td>5</td>\n",
       "      <td>Complicated</td>\n",
       "      <td>4</td>\n",
       "      <td>9</td>\n",
       "    </tr>\n",
       "    <tr>\n",
       "      <th>3</th>\n",
       "      <td>4</td>\n",
       "      <td>18</td>\n",
       "      <td>Male</td>\n",
       "      <td>High School</td>\n",
       "      <td>UK</td>\n",
       "      <td>3.0</td>\n",
       "      <td>YouTube</td>\n",
       "      <td>No</td>\n",
       "      <td>7.0</td>\n",
       "      <td>7</td>\n",
       "      <td>Single</td>\n",
       "      <td>1</td>\n",
       "      <td>4</td>\n",
       "    </tr>\n",
       "    <tr>\n",
       "      <th>4</th>\n",
       "      <td>5</td>\n",
       "      <td>21</td>\n",
       "      <td>Male</td>\n",
       "      <td>Graduate</td>\n",
       "      <td>Canada</td>\n",
       "      <td>4.5</td>\n",
       "      <td>Facebook</td>\n",
       "      <td>Yes</td>\n",
       "      <td>6.0</td>\n",
       "      <td>6</td>\n",
       "      <td>In Relationship</td>\n",
       "      <td>2</td>\n",
       "      <td>7</td>\n",
       "    </tr>\n",
       "  </tbody>\n",
       "</table>\n",
       "</div>"
      ],
      "text/plain": [
       "   Student_ID  Age  Gender Academic_Level     Country  Avg_Daily_Usage_Hours  \\\n",
       "0           1   19  Female  Undergraduate  Bangladesh                    5.2   \n",
       "1           2   22    Male       Graduate       India                    2.1   \n",
       "2           3   20  Female  Undergraduate         USA                    6.0   \n",
       "3           4   18    Male    High School          UK                    3.0   \n",
       "4           5   21    Male       Graduate      Canada                    4.5   \n",
       "\n",
       "  Most_Used_Platform Affects_Academic_Performance  Sleep_Hours_Per_Night  \\\n",
       "0          Instagram                          Yes                    6.5   \n",
       "1            Twitter                           No                    7.5   \n",
       "2             TikTok                          Yes                    5.0   \n",
       "3            YouTube                           No                    7.0   \n",
       "4           Facebook                          Yes                    6.0   \n",
       "\n",
       "   Mental_Health_Score Relationship_Status  Conflicts_Over_Social_Media  \\\n",
       "0                    6     In Relationship                            3   \n",
       "1                    8              Single                            0   \n",
       "2                    5         Complicated                            4   \n",
       "3                    7              Single                            1   \n",
       "4                    6     In Relationship                            2   \n",
       "\n",
       "   Addicted_Score  \n",
       "0               8  \n",
       "1               3  \n",
       "2               9  \n",
       "3               4  \n",
       "4               7  "
      ]
     },
     "execution_count": 3,
     "metadata": {},
     "output_type": "execute_result"
    }
   ],
   "source": [
    "# Load the dataset\n",
    "df = pd.read_csv(\"Students_Social_Media_Addiction.csv\")\n",
    "df.head()"
   ]
  },
  {
   "cell_type": "code",
   "execution_count": 4,
   "id": "c5d92db8",
   "metadata": {},
   "outputs": [
    {
     "name": "stdout",
     "output_type": "stream",
     "text": [
      "<class 'pandas.core.frame.DataFrame'>\n",
      "RangeIndex: 705 entries, 0 to 704\n",
      "Data columns (total 13 columns):\n",
      " #   Column                        Non-Null Count  Dtype  \n",
      "---  ------                        --------------  -----  \n",
      " 0   Student_ID                    705 non-null    int64  \n",
      " 1   Age                           705 non-null    int64  \n",
      " 2   Gender                        705 non-null    object \n",
      " 3   Academic_Level                705 non-null    object \n",
      " 4   Country                       705 non-null    object \n",
      " 5   Avg_Daily_Usage_Hours         705 non-null    float64\n",
      " 6   Most_Used_Platform            705 non-null    object \n",
      " 7   Affects_Academic_Performance  705 non-null    object \n",
      " 8   Sleep_Hours_Per_Night         705 non-null    float64\n",
      " 9   Mental_Health_Score           705 non-null    int64  \n",
      " 10  Relationship_Status           705 non-null    object \n",
      " 11  Conflicts_Over_Social_Media   705 non-null    int64  \n",
      " 12  Addicted_Score                705 non-null    int64  \n",
      "dtypes: float64(2), int64(5), object(6)\n",
      "memory usage: 71.7+ KB\n"
     ]
    }
   ],
   "source": [
    "# info about the dataset\n",
    "df.info()"
   ]
  },
  {
   "cell_type": "code",
   "execution_count": 5,
   "id": "13657285",
   "metadata": {},
   "outputs": [
    {
     "data": {
      "application/vnd.microsoft.datawrangler.viewer.v0+json": {
       "columns": [
        {
         "name": "index",
         "rawType": "object",
         "type": "string"
        },
        {
         "name": "Student_ID",
         "rawType": "float64",
         "type": "float"
        },
        {
         "name": "Age",
         "rawType": "float64",
         "type": "float"
        },
        {
         "name": "Avg_Daily_Usage_Hours",
         "rawType": "float64",
         "type": "float"
        },
        {
         "name": "Sleep_Hours_Per_Night",
         "rawType": "float64",
         "type": "float"
        },
        {
         "name": "Mental_Health_Score",
         "rawType": "float64",
         "type": "float"
        },
        {
         "name": "Conflicts_Over_Social_Media",
         "rawType": "float64",
         "type": "float"
        },
        {
         "name": "Addicted_Score",
         "rawType": "float64",
         "type": "float"
        }
       ],
       "ref": "6ed353c0-36e6-4e80-b92e-994618d2a544",
       "rows": [
        [
         "count",
         "705.0",
         "705.0",
         "705.0",
         "705.0",
         "705.0",
         "705.0",
         "705.0"
        ],
        [
         "mean",
         "353.0",
         "20.659574468085108",
         "4.918723404255319",
         "6.868936170212766",
         "6.226950354609929",
         "2.849645390070922",
         "6.436879432624114"
        ],
        [
         "std",
         "203.6602563093742",
         "1.3992174519195673",
         "1.257394521073143",
         "1.1268480415318038",
         "1.1050554948415765",
         "0.9579677911317821",
         "1.587164931868841"
        ],
        [
         "min",
         "1.0",
         "18.0",
         "1.5",
         "3.8",
         "4.0",
         "0.0",
         "2.0"
        ],
        [
         "25%",
         "177.0",
         "19.0",
         "4.1",
         "6.0",
         "5.0",
         "2.0",
         "5.0"
        ],
        [
         "50%",
         "353.0",
         "21.0",
         "4.8",
         "6.9",
         "6.0",
         "3.0",
         "7.0"
        ],
        [
         "75%",
         "529.0",
         "22.0",
         "5.8",
         "7.7",
         "7.0",
         "4.0",
         "8.0"
        ],
        [
         "max",
         "705.0",
         "24.0",
         "8.5",
         "9.6",
         "9.0",
         "5.0",
         "9.0"
        ]
       ],
       "shape": {
        "columns": 7,
        "rows": 8
       }
      },
      "text/html": [
       "<div>\n",
       "<style scoped>\n",
       "    .dataframe tbody tr th:only-of-type {\n",
       "        vertical-align: middle;\n",
       "    }\n",
       "\n",
       "    .dataframe tbody tr th {\n",
       "        vertical-align: top;\n",
       "    }\n",
       "\n",
       "    .dataframe thead th {\n",
       "        text-align: right;\n",
       "    }\n",
       "</style>\n",
       "<table border=\"1\" class=\"dataframe\">\n",
       "  <thead>\n",
       "    <tr style=\"text-align: right;\">\n",
       "      <th></th>\n",
       "      <th>Student_ID</th>\n",
       "      <th>Age</th>\n",
       "      <th>Avg_Daily_Usage_Hours</th>\n",
       "      <th>Sleep_Hours_Per_Night</th>\n",
       "      <th>Mental_Health_Score</th>\n",
       "      <th>Conflicts_Over_Social_Media</th>\n",
       "      <th>Addicted_Score</th>\n",
       "    </tr>\n",
       "  </thead>\n",
       "  <tbody>\n",
       "    <tr>\n",
       "      <th>count</th>\n",
       "      <td>705.000000</td>\n",
       "      <td>705.000000</td>\n",
       "      <td>705.000000</td>\n",
       "      <td>705.000000</td>\n",
       "      <td>705.000000</td>\n",
       "      <td>705.000000</td>\n",
       "      <td>705.000000</td>\n",
       "    </tr>\n",
       "    <tr>\n",
       "      <th>mean</th>\n",
       "      <td>353.000000</td>\n",
       "      <td>20.659574</td>\n",
       "      <td>4.918723</td>\n",
       "      <td>6.868936</td>\n",
       "      <td>6.226950</td>\n",
       "      <td>2.849645</td>\n",
       "      <td>6.436879</td>\n",
       "    </tr>\n",
       "    <tr>\n",
       "      <th>std</th>\n",
       "      <td>203.660256</td>\n",
       "      <td>1.399217</td>\n",
       "      <td>1.257395</td>\n",
       "      <td>1.126848</td>\n",
       "      <td>1.105055</td>\n",
       "      <td>0.957968</td>\n",
       "      <td>1.587165</td>\n",
       "    </tr>\n",
       "    <tr>\n",
       "      <th>min</th>\n",
       "      <td>1.000000</td>\n",
       "      <td>18.000000</td>\n",
       "      <td>1.500000</td>\n",
       "      <td>3.800000</td>\n",
       "      <td>4.000000</td>\n",
       "      <td>0.000000</td>\n",
       "      <td>2.000000</td>\n",
       "    </tr>\n",
       "    <tr>\n",
       "      <th>25%</th>\n",
       "      <td>177.000000</td>\n",
       "      <td>19.000000</td>\n",
       "      <td>4.100000</td>\n",
       "      <td>6.000000</td>\n",
       "      <td>5.000000</td>\n",
       "      <td>2.000000</td>\n",
       "      <td>5.000000</td>\n",
       "    </tr>\n",
       "    <tr>\n",
       "      <th>50%</th>\n",
       "      <td>353.000000</td>\n",
       "      <td>21.000000</td>\n",
       "      <td>4.800000</td>\n",
       "      <td>6.900000</td>\n",
       "      <td>6.000000</td>\n",
       "      <td>3.000000</td>\n",
       "      <td>7.000000</td>\n",
       "    </tr>\n",
       "    <tr>\n",
       "      <th>75%</th>\n",
       "      <td>529.000000</td>\n",
       "      <td>22.000000</td>\n",
       "      <td>5.800000</td>\n",
       "      <td>7.700000</td>\n",
       "      <td>7.000000</td>\n",
       "      <td>4.000000</td>\n",
       "      <td>8.000000</td>\n",
       "    </tr>\n",
       "    <tr>\n",
       "      <th>max</th>\n",
       "      <td>705.000000</td>\n",
       "      <td>24.000000</td>\n",
       "      <td>8.500000</td>\n",
       "      <td>9.600000</td>\n",
       "      <td>9.000000</td>\n",
       "      <td>5.000000</td>\n",
       "      <td>9.000000</td>\n",
       "    </tr>\n",
       "  </tbody>\n",
       "</table>\n",
       "</div>"
      ],
      "text/plain": [
       "       Student_ID         Age  Avg_Daily_Usage_Hours  Sleep_Hours_Per_Night  \\\n",
       "count  705.000000  705.000000             705.000000             705.000000   \n",
       "mean   353.000000   20.659574               4.918723               6.868936   \n",
       "std    203.660256    1.399217               1.257395               1.126848   \n",
       "min      1.000000   18.000000               1.500000               3.800000   \n",
       "25%    177.000000   19.000000               4.100000               6.000000   \n",
       "50%    353.000000   21.000000               4.800000               6.900000   \n",
       "75%    529.000000   22.000000               5.800000               7.700000   \n",
       "max    705.000000   24.000000               8.500000               9.600000   \n",
       "\n",
       "       Mental_Health_Score  Conflicts_Over_Social_Media  Addicted_Score  \n",
       "count           705.000000                   705.000000      705.000000  \n",
       "mean              6.226950                     2.849645        6.436879  \n",
       "std               1.105055                     0.957968        1.587165  \n",
       "min               4.000000                     0.000000        2.000000  \n",
       "25%               5.000000                     2.000000        5.000000  \n",
       "50%               6.000000                     3.000000        7.000000  \n",
       "75%               7.000000                     4.000000        8.000000  \n",
       "max               9.000000                     5.000000        9.000000  "
      ]
     },
     "execution_count": 5,
     "metadata": {},
     "output_type": "execute_result"
    }
   ],
   "source": [
    "# Data description\n",
    "df.describe()"
   ]
  },
  {
   "cell_type": "code",
   "execution_count": 35,
   "id": "655388b3",
   "metadata": {},
   "outputs": [
    {
     "name": "stdout",
     "output_type": "stream",
     "text": [
      "Dataset shape: (705, 13)\n"
     ]
    }
   ],
   "source": [
    "# Dataset shape\n",
    "print(\"Dataset shape:\", df.shape)"
   ]
  },
  {
   "cell_type": "code",
   "execution_count": 6,
   "id": "dc93cc5a",
   "metadata": {},
   "outputs": [
    {
     "data": {
      "application/vnd.microsoft.datawrangler.viewer.v0+json": {
       "columns": [
        {
         "name": "index",
         "rawType": "object",
         "type": "string"
        },
        {
         "name": "0",
         "rawType": "int64",
         "type": "integer"
        }
       ],
       "ref": "fc383917-916c-446e-8296-1c18e0b45188",
       "rows": [
        [
         "Student_ID",
         "0"
        ],
        [
         "Age",
         "0"
        ],
        [
         "Gender",
         "0"
        ],
        [
         "Academic_Level",
         "0"
        ],
        [
         "Country",
         "0"
        ],
        [
         "Avg_Daily_Usage_Hours",
         "0"
        ],
        [
         "Most_Used_Platform",
         "0"
        ],
        [
         "Affects_Academic_Performance",
         "0"
        ],
        [
         "Sleep_Hours_Per_Night",
         "0"
        ],
        [
         "Mental_Health_Score",
         "0"
        ],
        [
         "Relationship_Status",
         "0"
        ],
        [
         "Conflicts_Over_Social_Media",
         "0"
        ],
        [
         "Addicted_Score",
         "0"
        ]
       ],
       "shape": {
        "columns": 1,
        "rows": 13
       }
      },
      "text/plain": [
       "Student_ID                      0\n",
       "Age                             0\n",
       "Gender                          0\n",
       "Academic_Level                  0\n",
       "Country                         0\n",
       "Avg_Daily_Usage_Hours           0\n",
       "Most_Used_Platform              0\n",
       "Affects_Academic_Performance    0\n",
       "Sleep_Hours_Per_Night           0\n",
       "Mental_Health_Score             0\n",
       "Relationship_Status             0\n",
       "Conflicts_Over_Social_Media     0\n",
       "Addicted_Score                  0\n",
       "dtype: int64"
      ]
     },
     "execution_count": 6,
     "metadata": {},
     "output_type": "execute_result"
    }
   ],
   "source": [
    "# Check for missing values\n",
    "df.isnull().sum()"
   ]
  }
 ],
 "metadata": {
  "kernelspec": {
   "display_name": "Python 3",
   "language": "python",
   "name": "python3"
  },
  "language_info": {
   "codemirror_mode": {
    "name": "ipython",
    "version": 3
   },
   "file_extension": ".py",
   "mimetype": "text/x-python",
   "name": "python",
   "nbconvert_exporter": "python",
   "pygments_lexer": "ipython3",
   "version": "3.13.3"
  }
 },
 "nbformat": 4,
 "nbformat_minor": 5
}
