{
 "cells": [
  {
   "cell_type": "markdown",
   "id": "f1aace98",
   "metadata": {},
   "source": [
    "__Shamsuddeen Yusuf__\n",
    "\n",
    "__Week 1 Assignment__"
   ]
  },
  {
   "cell_type": "markdown",
   "id": "695d874e",
   "metadata": {},
   "source": [
    " __Rock, Paper and Scissors__\n",
    "\n",
    " This game will prompt a user to make a choice between rock, paper or scissior. If the user enter the same argument the computer chose randomly it will be a tie. Else it will be winning or losing"
   ]
  },
  {
   "cell_type": "code",
   "execution_count": 7,
   "id": "bdfaf105",
   "metadata": {},
   "outputs": [],
   "source": [
    "# import the necessary library for random choice\n",
    "import random\n",
    "\n",
    "# Define the possible choices\n",
    "choices = [\"rock\", \"paper\", \"scissors\"]"
   ]
  },
  {
   "cell_type": "code",
   "execution_count": 8,
   "id": "9fdfc8c7",
   "metadata": {},
   "outputs": [],
   "source": [
    "# Define the function for the computer choice\n",
    "def get_computer_choice():\n",
    "    return random.choice(choices)"
   ]
  },
  {
   "cell_type": "code",
   "execution_count": 9,
   "id": "7d2af9c3",
   "metadata": {},
   "outputs": [],
   "source": [
    "# Define the function for the user choise\n",
    "def get_user_choice():\n",
    "    while True:\n",
    "        # Prompt the user to make a choice\n",
    "        user_choice = input(\"Enter rock, paper, or scissors: \").lower()\n",
    "        if user_choice in choices:\n",
    "            return user_choice\n",
    "        else:\n",
    "            print(\"Invalid choice. Please try again.\")"
   ]
  },
  {
   "cell_type": "code",
   "execution_count": 10,
   "id": "59b2d5e9",
   "metadata": {},
   "outputs": [],
   "source": [
    "# Define the function to determine the winner\n",
    "def determine_winner(user_choice, computer_choice):\n",
    "    print(f\"\\nYou chose: {user_choice}\")\n",
    "    print(f\"Computer chose: {computer_choice}\\n\")\n",
    "\n",
    "    # State the condtional statement for tie, winning or lose\n",
    "    if user_choice == computer_choice:\n",
    "        return \"It's a tie!\"\n",
    "    elif (user_choice == \"rock\" and computer_choice == \"scissors\") or \\\n",
    "         (user_choice == \"paper\" and computer_choice == \"rock\") or \\\n",
    "         (user_choice == \"scissors\" and computer_choice == \"paper\"):\n",
    "        return \"You win!\"\n",
    "    else:\n",
    "        return \"Computer wins!\""
   ]
  },
  {
   "cell_type": "markdown",
   "id": "4bd52d58",
   "metadata": {},
   "source": [
    "This section bring all of the function define earlier to play the game."
   ]
  },
  {
   "cell_type": "code",
   "execution_count": 11,
   "id": "8002477e",
   "metadata": {},
   "outputs": [],
   "source": [
    "# Define the function to play the game\n",
    "def play_game():\n",
    "    print(\"Welcome to Rock, Paper, Scissors!\")\n",
    "    user_choice = get_user_choice()\n",
    "    computer_choice = get_computer_choice()\n",
    "    result = determine_winner(user_choice, computer_choice)\n",
    "    print(result)"
   ]
  },
  {
   "cell_type": "markdown",
   "id": "c25e7387",
   "metadata": {},
   "source": [
    "To play the game call the last function"
   ]
  },
  {
   "cell_type": "code",
   "execution_count": 12,
   "id": "0634d428",
   "metadata": {},
   "outputs": [
    {
     "name": "stdout",
     "output_type": "stream",
     "text": [
      "Welcome to Rock, Paper, Scissors!\n",
      "\n",
      "You chose: paper\n",
      "Computer chose: paper\n",
      "\n",
      "It's a tie!\n"
     ]
    }
   ],
   "source": [
    "# Run the game\n",
    "play_game()"
   ]
  }
 ],
 "metadata": {
  "kernelspec": {
   "display_name": "Python 3",
   "language": "python",
   "name": "python3"
  },
  "language_info": {
   "codemirror_mode": {
    "name": "ipython",
    "version": 3
   },
   "file_extension": ".py",
   "mimetype": "text/x-python",
   "name": "python",
   "nbconvert_exporter": "python",
   "pygments_lexer": "ipython3",
   "version": "3.13.2"
  }
 },
 "nbformat": 4,
 "nbformat_minor": 5
}
