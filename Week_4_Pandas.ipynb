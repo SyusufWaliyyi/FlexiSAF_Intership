{
 "cells": [
  {
   "cell_type": "markdown",
   "id": "3368bf36",
   "metadata": {},
   "source": [
    "_Shamsuddeen Yusuf_\n",
    "\n",
    "_Week 4_"
   ]
  },
  {
   "cell_type": "code",
   "execution_count": 10,
   "id": "d2d6c201",
   "metadata": {},
   "outputs": [],
   "source": [
    "# Import necessary libraries\n",
    "import pandas as pd"
   ]
  },
  {
   "cell_type": "markdown",
   "id": "37f6bb57",
   "metadata": {},
   "source": [
    "Load a small, publicly available dataset from the data url"
   ]
  },
  {
   "cell_type": "code",
   "execution_count": 11,
   "id": "cfaa1c55",
   "metadata": {},
   "outputs": [],
   "source": [
    "url = \"https://raw.githubusercontent.com/mwaskom/seaborn-data/master/iris.csv\"\n",
    "plant_data = pd.read_csv(url)"
   ]
  },
  {
   "cell_type": "code",
   "execution_count": 12,
   "id": "48e036ec",
   "metadata": {},
   "outputs": [
    {
     "name": "stdout",
     "output_type": "stream",
     "text": [
      "The first 5 rows of the dataset are:\n",
      "   sepal_length  sepal_width  petal_length  petal_width species\n",
      "0           5.1          3.5           1.4          0.2  setosa\n",
      "1           4.9          3.0           1.4          0.2  setosa\n",
      "2           4.7          3.2           1.3          0.2  setosa\n",
      "3           4.6          3.1           1.5          0.2  setosa\n",
      "4           5.0          3.6           1.4          0.2  setosa\n"
     ]
    }
   ],
   "source": [
    "# Print the first five rows\n",
    "print(f\"The first 5 rows of the dataset are:\\n{plant_data.head()}\")"
   ]
  },
  {
   "cell_type": "code",
   "execution_count": 13,
   "id": "1400428a",
   "metadata": {},
   "outputs": [
    {
     "name": "stdout",
     "output_type": "stream",
     "text": [
      "The last five rows: \n",
      "     sepal_length  sepal_width  petal_length  petal_width    species\n",
      "145           6.7          3.0           5.2          2.3  virginica\n",
      "146           6.3          2.5           5.0          1.9  virginica\n",
      "147           6.5          3.0           5.2          2.0  virginica\n",
      "148           6.2          3.4           5.4          2.3  virginica\n",
      "149           5.9          3.0           5.1          1.8  virginica\n"
     ]
    }
   ],
   "source": [
    "# The last five rows\n",
    "print(f\"The last five rows: \\n{plant_data.tail()}\")"
   ]
  },
  {
   "cell_type": "code",
   "execution_count": 14,
   "id": "d013256c",
   "metadata": {},
   "outputs": [
    {
     "name": "stdout",
     "output_type": "stream",
     "text": [
      "The number of rows and columns: (150, 5)\n"
     ]
    }
   ],
   "source": [
    "# The number of rows and columns\n",
    "print(f\"The number of rows and columns: {plant_data.shape}\")"
   ]
  },
  {
   "cell_type": "code",
   "execution_count": 15,
   "id": "d04ea4a0",
   "metadata": {},
   "outputs": [
    {
     "name": "stdout",
     "output_type": "stream",
     "text": [
      "<class 'pandas.core.frame.DataFrame'>\n",
      "RangeIndex: 150 entries, 0 to 149\n",
      "Data columns (total 5 columns):\n",
      " #   Column        Non-Null Count  Dtype  \n",
      "---  ------        --------------  -----  \n",
      " 0   sepal_length  150 non-null    float64\n",
      " 1   sepal_width   150 non-null    float64\n",
      " 2   petal_length  150 non-null    float64\n",
      " 3   petal_width   150 non-null    float64\n",
      " 4   species       150 non-null    object \n",
      "dtypes: float64(4), object(1)\n",
      "memory usage: 6.0+ KB\n",
      "plant_data info: \n",
      "None\n"
     ]
    }
   ],
   "source": [
    "# Data info\n",
    "print(f\"plant_data info: \\n{plant_data.info()}\")"
   ]
  },
  {
   "cell_type": "code",
   "execution_count": 16,
   "id": "fb08b136",
   "metadata": {},
   "outputs": [
    {
     "name": "stdout",
     "output_type": "stream",
     "text": [
      "plant_data summary statistics: \n",
      "       sepal_length  sepal_width  petal_length  petal_width\n",
      "count    150.000000   150.000000    150.000000   150.000000\n",
      "mean       5.843333     3.057333      3.758000     1.199333\n",
      "std        0.828066     0.435866      1.765298     0.762238\n",
      "min        4.300000     2.000000      1.000000     0.100000\n",
      "25%        5.100000     2.800000      1.600000     0.300000\n",
      "50%        5.800000     3.000000      4.350000     1.300000\n",
      "75%        6.400000     3.300000      5.100000     1.800000\n",
      "max        7.900000     4.400000      6.900000     2.500000\n"
     ]
    }
   ],
   "source": [
    "# Data summary statistics\n",
    "print(f\"plant_data summary statistics: \\n{plant_data.describe()}\")"
   ]
  },
  {
   "cell_type": "code",
   "execution_count": 17,
   "id": "5d0faf12",
   "metadata": {},
   "outputs": [
    {
     "name": "stdout",
     "output_type": "stream",
     "text": [
      "Data types of each column: \n",
      "sepal_length    float64\n",
      "sepal_width     float64\n",
      "petal_length    float64\n",
      "petal_width     float64\n",
      "species          object\n",
      "dtype: object\n"
     ]
    }
   ],
   "source": [
    "# Data types of each column \n",
    "print(f\"Data types of each column: \\n{plant_data.dtypes}\")"
   ]
  },
  {
   "cell_type": "code",
   "execution_count": 18,
   "id": "6e1423d6",
   "metadata": {},
   "outputs": [
    {
     "name": "stdout",
     "output_type": "stream",
     "text": [
      "Data sample: \n",
      "    sepal_length  sepal_width  petal_length  petal_width     species\n",
      "29           4.7          3.2           1.6          0.2      setosa\n",
      "11           4.8          3.4           1.6          0.2      setosa\n",
      "26           5.0          3.4           1.6          0.4      setosa\n",
      "21           5.1          3.7           1.5          0.4      setosa\n",
      "87           6.3          2.3           4.4          1.3  versicolor\n"
     ]
    }
   ],
   "source": [
    "# Data sample\n",
    "print(f\"Data sample: \\n{plant_data.sample(5)}\")"
   ]
  },
  {
   "cell_type": "code",
   "execution_count": 19,
   "id": "f1b01276",
   "metadata": {},
   "outputs": [
    {
     "name": "stdout",
     "output_type": "stream",
     "text": [
      "Data sampling with random state: \n",
      "     sepal_length  sepal_width  petal_length  petal_width     species\n",
      "87            6.3          2.3           4.4          1.3  versicolor\n",
      "111           6.4          2.7           5.3          1.9   virginica\n",
      "10            5.4          3.7           1.5          0.2      setosa\n",
      "91            6.1          3.0           4.6          1.4  versicolor\n",
      "49            5.0          3.3           1.4          0.2      setosa\n",
      "60            5.0          2.0           3.5          1.0  versicolor\n",
      "72            6.3          2.5           4.9          1.5  versicolor\n",
      "67            5.8          2.7           4.1          1.0  versicolor\n"
     ]
    }
   ],
   "source": [
    "# Data sampling with random state\n",
    "print(f\"Data sampling with random state: \\n{plant_data.sample(frac=0.05, random_state=10)}\")"
   ]
  },
  {
   "cell_type": "code",
   "execution_count": 20,
   "id": "cad65657",
   "metadata": {},
   "outputs": [
    {
     "name": "stdout",
     "output_type": "stream",
     "text": [
      "\n",
      "Mean for each numerical feature:\n",
      "sepal_length    5.843333\n",
      "sepal_width     3.057333\n",
      "petal_length    3.758000\n",
      "petal_width     1.199333\n",
      "dtype: float64\n"
     ]
    }
   ],
   "source": [
    "# Mean for each numerical feature\n",
    "print(\"\\nMean for each numerical feature:\")\n",
    "print(plant_data.mean(numeric_only=True))"
   ]
  },
  {
   "cell_type": "code",
   "execution_count": 21,
   "id": "aa251535",
   "metadata": {},
   "outputs": [
    {
     "name": "stdout",
     "output_type": "stream",
     "text": [
      "\n",
      "Median for each numerical feature:\n",
      "sepal_length    5.80\n",
      "sepal_width     3.00\n",
      "petal_length    4.35\n",
      "petal_width     1.30\n",
      "dtype: float64\n"
     ]
    }
   ],
   "source": [
    "# Mean for each numerical feature\n",
    "print(\"\\nMedian for each numerical feature:\")\n",
    "print(plant_data.median(numeric_only=True))"
   ]
  },
  {
   "cell_type": "code",
   "execution_count": 22,
   "id": "4233ed1a",
   "metadata": {},
   "outputs": [
    {
     "name": "stdout",
     "output_type": "stream",
     "text": [
      "\n",
      "Mode for each numerical feature:\n",
      "sepal_length    5.0\n",
      "sepal_width     3.0\n",
      "petal_length    1.4\n",
      "petal_width     0.2\n",
      "Name: 0, dtype: float64\n"
     ]
    }
   ],
   "source": [
    "# Mode for each numerical feature\n",
    "print(\"\\nMode for each numerical feature:\")\n",
    "print(plant_data.mode(numeric_only=True).iloc[0])"
   ]
  },
  {
   "cell_type": "code",
   "execution_count": 23,
   "id": "e6903026",
   "metadata": {},
   "outputs": [
    {
     "name": "stdout",
     "output_type": "stream",
     "text": [
      "\n",
      "Standard deviation for each numerical feature:\n",
      "sepal_length    0.828066\n",
      "sepal_width     0.435866\n",
      "petal_length    1.765298\n",
      "petal_width     0.762238\n",
      "dtype: float64\n"
     ]
    }
   ],
   "source": [
    "# Standard deviation for each numerical feature\n",
    "print(\"\\nStandard deviation for each numerical feature:\")\n",
    "print(plant_data.std(numeric_only=True))"
   ]
  },
  {
   "cell_type": "code",
   "execution_count": 24,
   "id": "8a0e26bd",
   "metadata": {},
   "outputs": [
    {
     "name": "stdout",
     "output_type": "stream",
     "text": [
      "\n",
      "Correlation matrix:\n",
      "              sepal_length  sepal_width  petal_length  petal_width\n",
      "sepal_length      1.000000    -0.117570      0.871754     0.817941\n",
      "sepal_width      -0.117570     1.000000     -0.428440    -0.366126\n",
      "petal_length      0.871754    -0.428440      1.000000     0.962865\n",
      "petal_width       0.817941    -0.366126      0.962865     1.000000\n"
     ]
    }
   ],
   "source": [
    "# Correlation between different features\n",
    "print(\"\\nCorrelation matrix:\")\n",
    "print(plant_data.corr(numeric_only=True))"
   ]
  }
 ],
 "metadata": {
  "kernelspec": {
   "display_name": "Python 3",
   "language": "python",
   "name": "python3"
  },
  "language_info": {
   "codemirror_mode": {
    "name": "ipython",
    "version": 3
   },
   "file_extension": ".py",
   "mimetype": "text/x-python",
   "name": "python",
   "nbconvert_exporter": "python",
   "pygments_lexer": "ipython3",
   "version": "3.13.2"
  }
 },
 "nbformat": 4,
 "nbformat_minor": 5
}
